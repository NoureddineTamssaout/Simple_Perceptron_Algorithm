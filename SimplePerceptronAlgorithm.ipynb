{
 "cells": [
  {
   "cell_type": "code",
   "execution_count": null,
   "metadata": {},
   "outputs": [],
   "source": [
    "import random\n",
    "import matplotlib.pyplot as plt\n",
    "\n",
    "# generate some random training data\n",
    "X_train = [[random.uniform(0, 1), random.uniform(0, 1)] for _ in range(100)]\n",
    "y_train = [1 if x[0] > x[1] else 0 for x in X_train]\n",
    "\n",
    "# initialize the weights and bias\n",
    "weights = [random.uniform(-1, 1) for _ in range(2)]\n",
    "bias = random.uniform(-1, 1)"
   ]
  },
  {
   "cell_type": "code",
   "execution_count": null,
   "metadata": {},
   "outputs": [],
   "source": [
    "\n",
    "# define the activation function\n",
    "def activate(z):\n",
    "    return 1 if z > 0 else 0\n",
    "\n",
    "# train the perceptron on the training data\n",
    "epochs = 100\n",
    "learning_rate = 0.1\n",
    "\n",
    "for epoch in range(epochs):\n",
    "    for i in range(len(X_train)):\n",
    "        x = X_train[i]\n",
    "        y_true = y_train[i]\n",
    "        z = sum([x[j] * weights[j] for j in range(len(x))]) + bias\n",
    "        y_pred = activate(z)\n",
    "        error = y_true - y_pred\n",
    "        weights = [weights[j] + learning_rate * error * x[j] for j in range(len(x))]\n",
    "        bias = bias + learning_rate * error"
   ]
  },
  {
   "cell_type": "code",
   "execution_count": null,
   "metadata": {},
   "outputs": [],
   "source": [
    "# generate some test data\n",
    "X_test = [[random.uniform(0, 1), random.uniform(0, 1)] for _ in range(10)]\n",
    "y_test = [1 if x[0] > x[1] else 0 for x in X_test]\n",
    "\n",
    "# make predictions on the test data\n",
    "y_pred = [activate(sum([X_test[i][j] * weights[j] for j in range(len(X_test[i]))]) + bias) for i in range(len(X_test))]\n",
    "\n",
    "# print the predictions and actual values\n",
    "print(\"Predictions:\", y_pred)\n",
    "print(\"Actual Values:\", y_test)"
   ]
  },
  {
   "cell_type": "code",
   "execution_count": null,
   "metadata": {},
   "outputs": [],
   "source": [
    "# plot the decision boundary\n",
    "fig, ax = plt.subplots()\n",
    "ax.set_xlim([0, 1])\n",
    "ax.set_ylim([0, 1])\n",
    "for i in range(len(X_train)):\n",
    "    x = X_train[i]\n",
    "    y_true = y_train[i]\n",
    "    color = \"r\" if y_true == 1 else \"b\"\n",
    "    marker = \"o\" if y_true == 1 else \"x\"\n",
    "    ax.scatter(x[0], x[1], c=color, marker=marker)\n",
    "x_vals = [0, 1]\n",
    "y_vals = [-(weights[0]/weights[1])*x - (bias/weights[1]) for x in x_vals]\n",
    "ax.plot(x_vals, y_vals, 'g-')\n",
    "plt.show()\n"
   ]
  }
 ],
 "metadata": {
  "language_info": {
   "name": "python"
  },
  "orig_nbformat": 4
 },
 "nbformat": 4,
 "nbformat_minor": 2
}
